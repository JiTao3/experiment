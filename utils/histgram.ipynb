{
 "metadata": {
  "language_info": {
   "codemirror_mode": {
    "name": "ipython",
    "version": 3
   },
   "file_extension": ".py",
   "mimetype": "text/x-python",
   "name": "python",
   "nbconvert_exporter": "python",
   "pygments_lexer": "ipython3",
   "version": "3.7.9-final"
  },
  "orig_nbformat": 2,
  "kernelspec": {
   "name": "python37964bittfconda4329b230b15543c2bb8c844151091042",
   "display_name": "Python 3.7.9 64-bit ('tf': conda)"
  }
 },
 "nbformat": 4,
 "nbformat_minor": 2,
 "cells": [
  {
   "cell_type": "code",
   "execution_count": 1,
   "metadata": {},
   "outputs": [],
   "source": [
    "import numpy as np\n",
    "import matplotlib.pyplot as plt\n",
    "import pandas as pd\n"
   ]
  },
  {
   "cell_type": "code",
   "execution_count": 4,
   "metadata": {},
   "outputs": [],
   "source": [
    "def buildEqualDepthHist(data,nbin=100):\n",
    "    bins = np.quantile(data, np.linspace(0,1,nbin+1))\n",
    "    bin_size = len(data)/nbin\n",
    "    return bins,bin_size"
   ]
  },
  {
   "cell_type": "code",
   "execution_count": 4,
   "metadata": {},
   "outputs": [
    {
     "output_type": "execute_result",
     "data": {
      "text/plain": [
       "9406943"
      ]
     },
     "metadata": {},
     "execution_count": 4
    }
   ],
   "source": [
    "len(year)"
   ]
  },
  {
   "cell_type": "code",
   "execution_count": 5,
   "metadata": {},
   "outputs": [],
   "source": [
    "# def computeSingleSidedSelectivity(bins,bin_size,X):\n",
    "#     for l in range(len(bins)):\n",
    "#         if(bins[l]>X):\n",
    "#             break\n",
    "#     if(l==0):\n",
    "#         return 0\n",
    "#     else:\n",
    "#         return (X-bin[l-1])/(bin[l]-bin[l-1])*bin_size + (l-1)*bin_size"
   ]
  },
  {
   "cell_type": "code",
   "execution_count": 18,
   "metadata": {},
   "outputs": [],
   "source": [
    "def computeRangeCardinality(bins,bin_size,left,right):\n",
    "\n",
    "    if(right<bins[0] or left>bins[-1]):\n",
    "        return 0\n",
    "\n",
    "    for l in range(len(bins)):\n",
    "        if(bins[l]>=left):\n",
    "            break\n",
    "    for r in range(len(bins)-1,-1,-1):\n",
    "        if(bins[r]<=right):\n",
    "            break\n",
    "    # print(l,r)\n",
    "\n",
    "    if(l==r and l==len(bins)-1):\n",
    "        return(bins[l]-left)/(bins[l]-bins[l-1])*bin_size\n",
    "    elif(l==r and l==0):\n",
    "        return(right-bins[l])/(bins[l+1]-bins[l])*bin_size\n",
    "    elif(l==r):\n",
    "        return ((bins[l]-left)/(bins[l]-bins[l-1]) + (right-bins[r])/(bins[r+1]-bins[r]))*bin_size\n",
    "    elif(l==0 and r==len(bins)-1):\n",
    "        return bin_size * (len(bins)-1)\n",
    "    elif(l==0):\n",
    "        return (r-l + (right-bins[r])/(bins[r+1]-bins[r]))*bin_size\n",
    "    elif(r==len(bins)-1):\n",
    "        return (r-l + (bins[l]-left)/(bins[l]-bins[l-1]))*bin_size\n",
    "    else:\n",
    "        return (r-l + (bins[l]-left)/(bins[l]-bins[l-1]) + (right-bins[r])/(bins[r+1]-bins[r]))*bin_size\n"
   ]
  },
  {
   "cell_type": "code",
   "execution_count": 29,
   "metadata": {},
   "outputs": [
    {
     "output_type": "stream",
     "name": "stdout",
     "text": [
      "0 2\n"
     ]
    },
    {
     "output_type": "execute_result",
     "data": {
      "text/plain": [
       "0.4"
      ]
     },
     "metadata": {},
     "execution_count": 29
    }
   ],
   "source": [
    "bins, bin_size = buildEqualDepthHist(year,5)\n",
    "computeRangeCardinality(bins,bin_size,1900,2010)/9406943"
   ]
  },
  {
   "cell_type": "code",
   "execution_count": 29,
   "metadata": {},
   "outputs": [
    {
     "output_type": "execute_result",
     "data": {
      "text/plain": [
       "array([1900., 2005., 2010., 2014., 2017., 2020.])"
      ]
     },
     "metadata": {},
     "execution_count": 29
    }
   ],
   "source": [
    "bins"
   ]
  },
  {
   "cell_type": "code",
   "execution_count": null,
   "metadata": {},
   "outputs": [],
   "source": [
    "9406943"
   ]
  },
  {
   "cell_type": "code",
   "execution_count": 31,
   "metadata": {},
   "outputs": [],
   "source": [
    "raw_data = pd.read_csv(\"/data/sunluming/datasets/cover.csv\").to_numpy()\n",
    "bins = []\n",
    "bin_size = []\n",
    "n_distinct = [1978, 361, 67, 551, 700, 5785, 207, 185, 255, 5827]\n",
    "pwl_calibration_num_keypoints = (np.array(n_distinct)**0.5).astype(int)\n",
    "for i in range(len(n_distinct)):\n",
    "    b,bs = buildEqualDepthHist(raw_data[:,i],nbin=pwl_calibration_num_keypoints[i]-1)\n",
    "    bins.append(b)\n",
    "    bin_size.append(bs)\n",
    "for each in bins:\n",
    "    for i in range(len(each)-1):\n",
    "        if(each[i]==each[i+1]):\n",
    "            each[i+1] += 1"
   ]
  },
  {
   "cell_type": "code",
   "execution_count": 32,
   "metadata": {},
   "outputs": [
    {
     "output_type": "execute_result",
     "data": {
      "text/plain": [
       "array([44, 19,  8, 23, 26, 76, 14, 13, 15, 76])"
      ]
     },
     "metadata": {},
     "execution_count": 32
    }
   ],
   "source": [
    "pwl_calibration_num_keypoints"
   ]
  },
  {
   "cell_type": "code",
   "execution_count": 33,
   "metadata": {},
   "outputs": [],
   "source": [
    "pwl_calibration_num_keypoints = (np.minimum(np.array(n_distinct)*0.4,500*0.1)).astype(int)"
   ]
  },
  {
   "cell_type": "code",
   "execution_count": 34,
   "metadata": {},
   "outputs": [
    {
     "output_type": "execute_result",
     "data": {
      "text/plain": [
       "array([50, 50, 26, 50, 50, 50, 50, 50, 50, 50])"
      ]
     },
     "metadata": {},
     "execution_count": 34
    }
   ],
   "source": [
    "pwl_calibration_num_keypoints"
   ]
  },
  {
   "cell_type": "code",
   "execution_count": 35,
   "metadata": {},
   "outputs": [
    {
     "output_type": "execute_result",
     "data": {
      "text/plain": [
       "[array([1859., 2257., 2390., 2496., 2564., 2614., 2661., 2701., 2733.,\n",
       "        2762., 2789., 2815., 2840., 2862., 2883., 2902., 2919., 2935.,\n",
       "        2949., 2962., 2975., 2989., 3003., 3017., 3031., 3046., 3062.,\n",
       "        3078., 3094., 3111., 3127., 3143., 3159., 3175., 3191., 3207.,\n",
       "        3223., 3240., 3258., 3279., 3304., 3343., 3391., 3858.]),\n",
       " array([  0.,  13.,  27.,  39.,  52.,  65.,  78.,  93., 109., 127., 148.,\n",
       "        175., 205., 242., 277., 305., 325., 342., 360.]),\n",
       " array([ 0.,  6.,  9., 12., 14., 17., 22., 66.]),\n",
       " array([   0.,   30.,   31.,   60.,   67.,   90.,  120.,  134.,  153.,\n",
       "         180.,  201.,  218.,  247.,  272.,  300.,  331.,  362.,  404.,\n",
       "         450.,  510.,  577.,  700., 1397.]),\n",
       " array([-173.,  -11.,   -2.,    0.,    1.,    3.,    6.,    9.,   12.,\n",
       "          16.,   19.,   23.,   27.,   32.,   37.,   42.,   48.,   55.,\n",
       "          62.,   71.,   81.,   94.,  111.,  135.,  178.,  601.]),\n",
       " array([   0. ,  175. ,  256. ,  330. ,  391. ,  451. ,  510. ,  564. ,\n",
       "         616. ,  663. ,  716. ,  764. ,  810. ,  854. ,  900. ,  942. ,\n",
       "         990. , 1031. , 1074. , 1114. , 1158. , 1200. , 1237. , 1282. ,\n",
       "        1324. , 1368. , 1411. , 1456. , 1503. , 1549. , 1597. , 1648. ,\n",
       "        1695. , 1746. , 1801. , 1856. , 1913. , 1972. , 2024. , 2083. ,\n",
       "        2143. , 2203. , 2268. , 2330. , 2396. , 2461. , 2529. , 2601. ,\n",
       "        2673. , 2750. , 2824. , 2900. , 2977. , 3055. , 3132. , 3214. ,\n",
       "        3303. , 3398. , 3502. , 3613. , 3739. , 3865. , 3994. , 4124. ,\n",
       "        4260. , 4392. , 4537. , 4702. , 4887. , 5074. , 5253. , 5436. ,\n",
       "        5621. , 5808. , 6031.2, 7117. ]),\n",
       " array([  0., 170., 186., 196., 204., 210., 215., 220., 224., 228., 232.,\n",
       "        237., 243., 254.]),\n",
       " array([  0., 195., 206., 213., 218., 222., 226., 230., 233., 237., 242.,\n",
       "        248., 254.]),\n",
       " array([  0.,  86., 104., 115., 123., 130., 137., 143., 149., 156., 164.,\n",
       "        173., 184., 198., 254.]),\n",
       " array([   0.,  212.,  300.,  366.,  430.,  484.,  531.,  573.,  616.,\n",
       "         658.,  696.,  732.,  774.,  811.,  849.,  888.,  926.,  960.,\n",
       "         997., 1033., 1071., 1106., 1142., 1179., 1215., 1253., 1290.,\n",
       "        1323., 1358., 1395., 1426., 1465., 1500., 1537., 1574., 1613.,\n",
       "        1651., 1690., 1731., 1771., 1809., 1851., 1892., 1932., 1976.,\n",
       "        2018., 2063., 2106., 2151., 2197., 2244., 2290., 2338., 2387.,\n",
       "        2436., 2486., 2536., 2589., 2643., 2700., 2762., 2831., 2913.,\n",
       "        3010., 3130., 3272., 3427., 3624., 3877., 4149., 4484., 4848.,\n",
       "        5252., 5676., 6144., 7173.])]"
      ]
     },
     "metadata": {},
     "execution_count": 35
    }
   ],
   "source": [
    "bins"
   ]
  },
  {
   "cell_type": "code",
   "execution_count": null,
   "metadata": {},
   "outputs": [],
   "source": []
  }
 ]
}